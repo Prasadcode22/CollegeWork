{
 "cells": [
  {
   "cell_type": "code",
   "execution_count": 1,
   "id": "459bc89d",
   "metadata": {},
   "outputs": [],
   "source": [
    "# Importing Pandas to create DataFrame\n",
    "import pandas as pd\n",
    "import numpy as np"
   ]
  },
  {
   "cell_type": "code",
   "execution_count": 2,
   "id": "bed76833",
   "metadata": {},
   "outputs": [],
   "source": [
    "# defining data \n",
    "data= [[10,20,30,40,50],[60,70,80,90,100],[110,120,130,140,150],[160,170,180,190,200]]\n",
    "\n",
    "# # Creating DataFrame and Storing it in variable \"df\"\n",
    "df = pd.DataFrame(data)"
   ]
  },
  {
   "cell_type": "code",
   "execution_count": 3,
   "id": "fb65b757",
   "metadata": {},
   "outputs": [
    {
     "name": "stdout",
     "output_type": "stream",
     "text": [
      "0    0\n",
      "1    0\n",
      "2    0\n",
      "3    0\n",
      "4    0\n",
      "dtype: int64\n",
      "                0           1           2           3           4\n",
      "count    4.000000    4.000000    4.000000    4.000000    4.000000\n",
      "mean    85.000000   95.000000  105.000000  115.000000  125.000000\n",
      "std     64.549722   64.549722   64.549722   64.549722   64.549722\n",
      "min     10.000000   20.000000   30.000000   40.000000   50.000000\n",
      "25%     47.500000   57.500000   67.500000   77.500000   87.500000\n",
      "50%     85.000000   95.000000  105.000000  115.000000  125.000000\n",
      "75%    122.500000  132.500000  142.500000  152.500000  162.500000\n",
      "max    160.000000  170.000000  180.000000  190.000000  200.000000\n",
      "(4, 5)\n",
      "0    int64\n",
      "1    int64\n",
      "2    int64\n",
      "3    int64\n",
      "4    int64\n",
      "dtype: object\n"
     ]
    }
   ],
   "source": [
    "column_names = ['A', 'B', 'C', 'D', 'E']\n",
    "# iris_df = pd.read_csv(url, names=column_names)\n",
    "\n",
    "# print(iris_df.isnull().sum())\n",
    "print(df.isnull().sum())\n",
    "# print(iris_df.describe())\n",
    "print(df.describe())\n",
    "# print(iris_df.shape)\n",
    "print(df.shape)\n",
    "    \n",
    "# print(iris_df.dtypes)\n",
    "print(df.dtypes)"
   ]
  },
  {
   "cell_type": "code",
   "execution_count": null,
   "id": "c57959a1",
   "metadata": {},
   "outputs": [],
   "source": []
  }
 ],
 "metadata": {
  "kernelspec": {
   "display_name": "Python 3 (ipykernel)",
   "language": "python",
   "name": "python3"
  },
  "language_info": {
   "codemirror_mode": {
    "name": "ipython",
    "version": 3
   },
   "file_extension": ".py",
   "mimetype": "text/x-python",
   "name": "python",
   "nbconvert_exporter": "python",
   "pygments_lexer": "ipython3",
   "version": "3.9.7"
  }
 },
 "nbformat": 4,
 "nbformat_minor": 5
}
